{
 "cells": [
  {
   "cell_type": "markdown",
   "metadata": {},
   "source": [
    "# Preliminaries\n",
    "\n",
    "## Dataset\n",
    "\n",
    "In this set of exercises we will use the same dataset as from [week 3](week_3.ipynb). \n",
    "\n",
    "\n",
    "As before, we provide the data already curated in the following two files:\n",
    "\n",
    "`RNA_expression_curated.csv`: [148 cell lines , 238 genes]\n",
    "\n",
    "`drug_response_curated.csv`: [148 cell lines , YM155 drug]\n",
    "\n",
    "The curated data can be read as `pandas` `DataFrame` in the following way:"
   ]
  },
  {
   "cell_type": "code",
   "execution_count": 1,
   "metadata": {},
   "outputs": [],
   "source": [
    "import pandas as pd\n",
    "\n",
    "gene_expression = pd.read_csv(\"./data/RNA_expression_curated.csv\", sep=',', header=0, index_col=0)\n",
    "drug_response = pd.read_csv(\"./data/drug_response_curated.csv\", sep=',', header=0, index_col=0)"
   ]
  },
  {
   "cell_type": "markdown",
   "metadata": {},
   "source": [
    "The goal of the exercises is to train support vector machine (SVM) and random forests classifiers on this dataset and explore and learn about their hyperparameters. "
   ]
  },
  {
   "cell_type": "markdown",
   "metadata": {},
   "source": [
    "## Tools\n",
    "\n",
    "The `scikit-learn` library provides the required tools for support vector machines, as well as for random forest algorithms."
   ]
  },
  {
   "cell_type": "code",
   "execution_count": 2,
   "metadata": {},
   "outputs": [],
   "source": [
    "from sklearn import svm \n",
    "from sklearn.ensemble import RandomForestClassifier\n",
    "from sklearn.model_selection import GridSearchCV\n",
    "from sklearn.model_selection import train_test_split\n",
    "#from sklearn.datasets.samples_generator import make_blobs, make_circles\n",
    "from sklearn.metrics import classification_report"
   ]
  },
  {
   "cell_type": "markdown",
   "metadata": {},
   "source": [
    "Before proceeding, look up the documentation of the imported functions and read about their basic functionality. Below, we list some important parameters of SVMs and random forests that can be tuned during training."
   ]
  },
  {
   "cell_type": "markdown",
   "metadata": {},
   "source": [
    "#### Support Vector Machines (SVM)\n",
    "\n",
    "`C`: error term.\n",
    "\n",
    "`kernel`: similarity function ('linear', 'poly', 'sigmoid' or 'rbf')\n",
    "\n",
    "`gamma`: kernel coef. for 'rbf', 'poly' and 'sigmoid' kernels. It can be thought of as the ‘spread’ of the kernel and therefore the decision region.\n",
    "\n",
    "`degree`: degree for the 'poly' kernel.\n",
    "\n",
    "`coef0`: independt term in the 'poly' and 'sigmoid' kernels\n",
    "\n",
    "\n",
    "#### Random Forests\n",
    "\n",
    "`n_estimators`: number of trees in our random forest.\n",
    "\n",
    "`max_depth`: maximum number of levels in each decision tree\n",
    "\n",
    "`max_features`: maximum number of features to consider per split in an individual tree.\n",
    "\n",
    "`min_sample_leaf`: minimum number of data points per leaf node\n",
    "\n",
    "`min_samples_split`: minimum number of data points placed in a node before the node is split\n",
    "\n",
    "`oob_score`: the out-of-bag (OOB) error is the average error for each observation calculated using predictions from the trees that do not contain that observation in their respective bootstrap sample. Set this parameter to true.\n",
    "\n",
    "`bootstrap`: method for sampling data points (with or without replacement). Set this parameter to true.\n",
    "\n",
    "`criterion`: function used to measure the quality of the split (e.g. 'entropy' or 'gini')\n",
    "\n",
    "# Exercises\n",
    "\n",
    "## Support vector machines\n",
    "\n",
    "The  `make_blobs` and `make_circles` functions can be used to generate linearly and not linearly separable toy datasets. "
   ]
  },
  {
   "cell_type": "code",
   "execution_count": 3,
   "metadata": {},
   "outputs": [],
   "source": [
    "# data generation: linearly separable\n",
    "X, Y = make_blobs(n_samples=200, centers=2, n_features=2, random_state=1234)\n",
    "X = pd.DataFrame(X, columns=['x1', 'x2'])\n",
    "\n",
    "# splitting data into training and test set\n",
    "X_train, X_test, Y_train, Y_test = train_test_split(X, Y, test_size=0.33, random_state=333)"
   ]
  },
  {
   "cell_type": "markdown",
   "metadata": {},
   "source": [
    "The following code illustrates how to train a linear SVM classifier and plot the data points, the separating hyperplane, the support vectors and the margins that pass through them (considering the training data)"
   ]
  },
  {
   "cell_type": "code",
   "execution_count": 4,
   "metadata": {},
   "outputs": [
    {
     "data": {
      "image/png": "[encoded data removed]",
      "text/plain": [
       "<Figure size 432x288 with 1 Axes>"
      ]
     },
     "metadata": {
      "needs_background": "light"
     },
     "output_type": "display_data"
    }
   ],
   "source": [
    "import numpy as np\n",
    "import matplotlib.pyplot as plt\n",
    "\n",
    "# build the model\n",
    "model = svm.SVC(kernel='linear', random_state=33)\n",
    "model.fit(X_train, Y_train)\n",
    "\n",
    "# create plot\n",
    "fig, ax = plt.subplots()\n",
    "\n",
    "# get colors from qualitative colormap 'Paired'\n",
    "cmap = plt.cm.get_cmap('Paired')\n",
    "\n",
    "# plot data points\n",
    "ax.scatter(X_train.iloc[Y_train == 1, 0], X_train.iloc[Y_train == 1, 1],\n",
    "           c=[cmap(11)], label='1')\n",
    "ax.scatter(X_train.iloc[Y_train == 0, 0], X_train.iloc[Y_train == 0, 1],\n",
    "           c=[cmap(0)], label='0')\n",
    "ax.legend(loc='best')\n",
    "\n",
    "# plot the decision function\n",
    "# create grid to evaluate model\n",
    "x1_min, x1_max = X_train.iloc[:, 0].min() - 1, X_train.iloc[:, 0].max() + 1\n",
    "x2_min, x2_max = X_train.iloc[:, 1].min() - 1, X_train.iloc[:, 1].max() + 1\n",
    "\n",
    "XX, YY = np.meshgrid(np.arange(x1_min, x1_max, .2),\n",
    "                     np.arange(x2_min, x2_max, .2))\n",
    "\n",
    "xy = np.vstack([XX.ravel(), YY.ravel()]).T\n",
    "Z = model.decision_function(xy).reshape(XX.shape)\n",
    "\n",
    "# plot decision boundary and margins\n",
    "ax.contour(XX, YY, Z, colors='k', levels=[-1, 0, 1], alpha=0.5,\n",
    "           linestyles=['--', '-', '--'])\n",
    "\n",
    "# Establish the class for each point in the contour\n",
    "Z = model.predict(xy).reshape(XX.shape)\n",
    "\n",
    "# Visualization of the contour\n",
    "ax.contourf(XX, YY, Z, cmap='bwr', alpha=0.3)\n",
    "\n",
    "# plot support vectors, whose are responsible for building the margins\n",
    "ax.scatter(model.support_vectors_[:, 0], model.support_vectors_[:, 1], s=100,\n",
    "           linewidth=1, facecolors='none', edgecolors='k', marker='s')\n",
    "\n",
    "ax.axis([x1_min, x1_max, x2_min, x2_max])\n",
    "plt.axis('tight')\n",
    "plt.title('Linear kernel SVM')\n",
    "plt.show()"
   ]
  },
  {
   "cell_type": "markdown",
   "metadata": {},
   "source": [
    "Train a radial basis function (RBF) SVM classifier with `gamma=0.5` and plot the results in the same way."
   ]
  },
  {
   "cell_type": "code",
   "execution_count": 5,
   "metadata": {},
   "outputs": [],
   "source": [
    "# data generation: not linearly separable\n",
    "X, Y = make_circles(n_samples=200, noise=0.05, random_state=1234)\n",
    "X = pd.DataFrame(X, columns=['x1', 'x2'])\n",
    "\n",
    "# splitting data into training and test set\n",
    "X_train, X_test, Y_train, Y_test = train_test_split(X, Y, test_size=0.33, random_state=333)"
   ]
  },
  {
   "cell_type": "code",
   "execution_count": 16,
   "metadata": {},
   "outputs": [
    {
     "data": {
      "image/png": "[encoded data removed]",
      "text/plain": [
       "<Figure size 432x288 with 1 Axes>"
      ]
     },
     "metadata": {
      "needs_background": "light"
     },
     "output_type": "display_data"
    }
   ],
   "source": [
    "# build the model\n",
    "model = svm.SVC(kernel='rbf',gamma=0.5, random_state=33)\n",
    "model.fit(X_train, Y_train)\n",
    "\n",
    "# create plot\n",
    "fig, ax = plt.subplots()\n",
    "\n",
    "# get colors from qualitative colormap 'Paired'\n",
    "cmap = plt.cm.get_cmap('Paired')\n",
    "\n",
    "# plot data points\n",
    "ax.scatter(X_train.iloc[Y_train == 1, 0], X_train.iloc[Y_train == 1, 1],\n",
    "           c=[cmap(11)], label='1')\n",
    "ax.scatter(X_train.iloc[Y_train == 0, 0], X_train.iloc[Y_train == 0, 1],\n",
    "           c=[cmap(0)], label='0')\n",
    "ax.legend(loc='best')\n",
    "\n",
    "# plot the decision function\n",
    "# create grid to evaluate model\n",
    "x1_min, x1_max = X_train.iloc[:, 0].min() - 1, X_train.iloc[:, 0].max() + 1\n",
    "x2_min, x2_max = X_train.iloc[:, 1].min() - 1, X_train.iloc[:, 1].max() + 1\n",
    "\n",
    "XX, YY = np.meshgrid(np.arange(x1_min, x1_max, .2),\n",
    "                     np.arange(x2_min, x2_max, .2))\n",
    "\n",
    "xy = np.vstack([XX.ravel(), YY.ravel()]).T\n",
    "Z = model.decision_function(xy).reshape(XX.shape)\n",
    "\n",
    "# plot decision boundary and margins\n",
    "ax.contour(XX, YY, Z, colors='k', levels=[-1, 0, 1], alpha=0.5,\n",
    "           linestyles=['--', '-', '--'])\n",
    "\n",
    "# Establish the class for each point in the contour\n",
    "Z = model.predict(xy).reshape(XX.shape)\n",
    "\n",
    "# Visualization of the contour\n",
    "ax.contourf(XX, YY, Z, cmap='bwr', alpha=0.3)\n",
    "\n",
    "# plot support vectors, whose are responsible for building the margins\n",
    "ax.scatter(model.support_vectors_[:, 0], model.support_vectors_[:, 1], s=100,\n",
    "           linewidth=1, facecolors='none', edgecolors='k', marker='s')\n",
    "\n",
    "ax.axis([x1_min, x1_max, x2_min, x2_max])\n",
    "plt.axis('tight')\n",
    "plt.title('RBF kernel SVM')\n",
    "plt.show()"
   ]
  },
  {
   "cell_type": "markdown",
   "metadata": {},
   "source": [
    "## Radial Basis Function Kernel ##\n",
    "\n",
    "<p><font color='#770a0a'>When should a RBF kernel be used over a linear kernel? Motivate your answer.</font></p>\n",
    "\n",
    "A Radial Basis Function Kernel is used when the data you wan't to classify is not linearly separable in the current dimension. It is based on a trick which consists of moving your problem to higher dimension where you can solve it with a linear solution. It uses a kernel function which quantifies the similarity between two objects but gives directly a relationship in infinite dimension. \n",
    "\n",
    "Indeed, the rbf kernel is $e^{-\\gamma(a-b)^2}$. \n",
    "\n",
    "If we derive it we get $e^{-\\gamma(a^2+b^2-2ab)}=e^{-\\gamma(a^2+b^2)}e^{\\gamma(2ab)}$\n",
    "\n",
    "If we set $\\gamma=2$ you can rewrite $e^{ab)}$ through Taylor Series expansion.\n",
    "\n",
    "$e^{ab}=1+\\frac{1}{1!}ab+\\frac{1}{2!}(ab)^2+\\frac{1}{3!}(ab)^3+...+\\frac{1}{\\infty!}(ab)^{\\infty}$\n",
    "\n",
    "It can be expressed as a dot product between the two points we want to compute the similarity of :\n",
    "\n",
    "$e^{ab}=(1,\\sqrt{\\frac{1}{1!}}a,\\sqrt{\\frac{1}{2!}}a^2,\\sqrt{\\frac{1}{3!}}a^3,...,\\sqrt{\\frac{1}{\\infty!}}a^{\\infty}).(1,\\sqrt{\\frac{1}{1!}}b,\\sqrt{\\frac{1}{2!}}b^2,\\sqrt{\\frac{1}{3!}}b^3,...,\\sqrt{\\frac{1}{\\infty!}}b^{\\infty})$\n",
    "\n",
    "To retrieve the global expression we only need to multiply the previous relation by $e^{-\\gamma(a^2+b^2)}$ :\n",
    "\n",
    "$e^{-\\gamma(a-b)^2}=e^{-\\gamma(a^2+b^2)}(1,\\sqrt{\\frac{1}{1!}}a,\\sqrt{\\frac{1}{2!}}a^2,\\sqrt{\\frac{1}{3!}}a^3,...,\\sqrt{\\frac{1}{\\infty!}}a^{\\infty}).(1,\\sqrt{\\frac{1}{1!}}b,\\sqrt{\\frac{1}{2!}}b^2,\\sqrt{\\frac{1}{3!}}b^3,...,\\sqrt{\\frac{1}{\\infty!}}b^{\\infty})$\n",
    "\n",
    "If we express $e^{-\\gamma(a^2+b^2)}$ as $s^2$ we can find the final relation :\n",
    "\n",
    "$e^{-\\gamma(a-b)^2}=(s,s\\sqrt{\\frac{1}{1!}}a,s\\sqrt{\\frac{1}{2!}}a^2,s\\sqrt{\\frac{1}{3!}}a^3,...,s\\sqrt{\\frac{1}{\\infty!}}a^{\\infty}).(s,s\\sqrt{\\frac{1}{1!}}b,s\\sqrt{\\frac{1}{2!}}b^2,s\\sqrt{\\frac{1}{3!}}b^3,...,s\\sqrt{\\frac{1}{\\infty!}}b^{\\infty})$\n",
    "\n",
    "Through a simple calculation, you compute a high dimensional relationship between the 2 points without actually transforming the data to a higher dimension. It is very useful for data which is not separable in the current dimension and pushes up the dimension until the SVM finds a working classifier.\n",
    "\n",
    "<p><font color='#770a0a'>Do we need to normalize the data before using a kernel function? Motivate your answer.\n",
    "</font></p>\n",
    "\n",
    "As the kernel computes the euclidean distance between two points, normalizing the data would be useless because the relative difference between 2 points and even at the scale of the whole data wouldn't change."
   ]
  },
  {
   "cell_type": "markdown",
   "metadata": {},
   "source": [
    "## Predicting drug response on cell lines from gene expression data with SVMs\n",
    "\n",
    "Explore the hyper-parameter space of an SVM classifier with cross-validation for the Genomics of Drug Sensitivity in Cancer (GDSC) dataset. The`GridSearchCV` function can be used to specify a grid of parameter values with the `param_grid` parameter.\n",
    "\n",
    "Calculate the precision of your predictions, and compare your calculations with the results of `classification_report`, which displays many classification metrics."
   ]
  },
  {
   "cell_type": "code",
   "execution_count": 6,
   "metadata": {},
   "outputs": [
    {
     "name": "stdout",
     "output_type": "stream",
     "text": [
      "Fitting 10 folds for each of 1448 candidates, totalling 14480 fits\n",
      "Best parameters: \n",
      " {'model__C': 1000.0, 'model__coef0': 1, 'model__gamma': 0.0001, 'model__kernel': 'sigmoid'}\n"
     ]
    }
   ],
   "source": [
    "import numpy as np\n",
    "import pandas as pd\n",
    "import matplotlib.pyplot as plt\n",
    "from sklearn import svm \n",
    "from sklearn.model_selection import train_test_split, GridSearchCV\n",
    "from sklearn.pipeline import Pipeline\n",
    "from sklearn.ensemble import RandomForestClassifier\n",
    "#from sklearn.datasets.samples_generator import make_blobs, make_circles\n",
    "from sklearn.datasets import make_blobs, make_circles\n",
    "from sklearn.metrics import classification_report, precision_score\n",
    "from sklearn.preprocessing import StandardScaler\n",
    "\n",
    "X = pd.read_csv(\"./data/RNA_expression_curated.csv\", sep=',', header=0, index_col=0) # gene expression\n",
    "y = pd.read_csv(\"./data/drug_response_curated.csv\", sep=',', header=0, index_col=0) # drug response\n",
    "\n",
    "# splitting data into training and test set\n",
    "X_train, X_test, Y_train, Y_test = train_test_split(X, y, test_size=0.15, random_state = 0)\n",
    "\n",
    "# Return 1-D array\n",
    "Y_train = np.ravel(Y_train)\n",
    "Y_test = np.ravel(Y_test)\n",
    "\n",
    "# Based on the IC50 metric, cells can be classified as sensitive or resistant. \n",
    "# The classification is done by computing the 𝑧 -score across all cell lines in the GDSC for each drug, and considering \n",
    "# as sensitive the ones with 𝑧 -score < 0 and resistant the ones with 𝑧 -score > 0.\n",
    "Y_train = list(map(lambda value: 1 if value > 0 else 0, Y_train))\n",
    "Y_test = list(map(lambda value: 1 if value > 0 else 0, Y_test))\n",
    "\n",
    "# We now create a processing pipeline that includes the scaling (in order to transform all features to a have a zero mean \n",
    "# and unit variance) and the SVM models in a sequence.\n",
    "pipelineSVC = Pipeline([\n",
    "                 (\"scaler\", StandardScaler()),\n",
    "                 (\"model\", svm.SVC())\n",
    "                ])\n",
    "\n",
    "# Hyperparameters\n",
    "C = 10.**np.arange(-4, 4)      # error term\n",
    "gamma = 10.**np.arange(-4, 1)  # kernel coef. for 'rbf', 'poly' and 'sigmoid' kernels\n",
    "degree = [1, 2, 3, 4, 5, 6]    # degree for the 'poly' kernel\n",
    "coef0 = [-10, -1, 0, 1, 10]    # independent term in the 'poly' and 'sigmoid' kernels\n",
    "\n",
    "# Create the parameter grid\n",
    "param_grid_SVC = [{'model__kernel': ['rbf'], 'model__C': C, 'model__gamma': gamma}, \n",
    "                  {'model__kernel': ['poly'], 'model__C': C, 'model__gamma': gamma, 'model__degree': degree, \n",
    "                   'model__coef0': coef0},\n",
    "                  {'model__kernel': ['sigmoid'], 'model__C': C, 'model__gamma': gamma, 'model__coef0': coef0}, \n",
    "                  {'model__kernel': ['linear'], 'model__C': C}]\n",
    "\n",
    "# cv = 10: cross-validation with 10 folds\n",
    "gridSVC = GridSearchCV(estimator=pipelineSVC, verbose = 2, param_grid = param_grid_SVC, refit=True, cv = 10, scoring='f1', n_jobs = -1)\n",
    "gridSVC.fit(X_train,Y_train)\n",
    "print(\"Best parameters: \\n {}\".format(gridSVC.best_params_))"
   ]
  },
  {
   "cell_type": "markdown",
   "metadata": {},
   "source": [
    "The score method chosen was the f1-score, because it takes both false positives and false negatives into account, and it is more useful than accuracy when the class distribution is uneven (as it happens in this case). "
   ]
  },
  {
   "cell_type": "code",
   "execution_count": 7,
   "metadata": {},
   "outputs": [
    {
     "name": "stdout",
     "output_type": "stream",
     "text": [
      "Precision = \n",
      " 0.6666666666666666\n",
      "\n",
      "              precision    recall  f1-score   support\n",
      "\n",
      "           0       0.94      0.89      0.91        18\n",
      "           1       0.67      0.80      0.73         5\n",
      "\n",
      "    accuracy                           0.87        23\n",
      "   macro avg       0.80      0.84      0.82        23\n",
      "weighted avg       0.88      0.87      0.87        23\n",
      "\n"
     ]
    }
   ],
   "source": [
    "Y_test_pred = gridSVC.predict(X_test)\n",
    "print('Precision = \\n {}'.format(precision_score(Y_test, Y_test_pred)))\n",
    "print('\\n{}'.format(classification_report(Y_test, Y_test_pred)))"
   ]
  },
  {
   "cell_type": "markdown",
   "metadata": {},
   "source": [
    "The precision computed with \"precision_score\" has the same outcome as the precision computed with \"classification_report\" for the class with positive label (1). We can also see that all classification metrics have higher results for the targets with classification 0 than for targets with classification 1.\n",
    "Computing the precision_score is the same as calculating the ratio $\\frac{tp}{tp+fp}$, as seen below, where tp is the number of true positives and fp the number of false positives."
   ]
  },
  {
   "cell_type": "code",
   "execution_count": 8,
   "metadata": {},
   "outputs": [
    {
     "data": {
      "text/plain": [
       "0.6666666666666666"
      ]
     },
     "execution_count": 8,
     "metadata": {},
     "output_type": "execute_result"
    }
   ],
   "source": [
    "def precision(real, predicted):\n",
    "    tp = 0\n",
    "    fp = 0\n",
    "    for i in range(len(real)):\n",
    "        if real[i] == 1 and predicted[i] == 1:\n",
    "            tp = tp +1\n",
    "        elif real[i] == 0 and predicted[i] == 1:\n",
    "            fp = fp + 1\n",
    "    return tp/(tp+fp)\n",
    "\n",
    "precision(Y_test, Y_test_pred)"
   ]
  },
  {
   "cell_type": "markdown",
   "metadata": {},
   "source": [
    "## Random forests\n",
    "\n",
    "Follow the same steps as for SVM. Compare the two algorithms and report which one has better performance."
   ]
  },
  {
   "cell_type": "code",
   "execution_count": 9,
   "metadata": {},
   "outputs": [
    {
     "name": "stdout",
     "output_type": "stream",
     "text": [
      "Fitting 5 folds for each of 6250 candidates, totalling 31250 fits\n",
      "[Pipeline] ............ (step 1 of 2) Processing scaler, total=   0.0s\n",
      "[Pipeline] ............. (step 2 of 2) Processing model, total=   0.7s\n",
      "Best parameters: {'model__criterion': 'gini', 'model__max_depth': 15, 'model__max_features': 70, 'model__min_samples_leaf': 3, 'model__min_samples_split': 4, 'model__n_estimators': 200}\n"
     ]
    }
   ],
   "source": [
    "# Create the processing pipeline including the scaling and the random forests model\n",
    "pipelineRF = Pipeline([\n",
    "                 (\"scaler\", StandardScaler()),\n",
    "                 (\"model\", RandomForestClassifier(bootstrap = True, oob_score = True))],\n",
    "                  verbose=True)\n",
    "\n",
    "# Define the parameters for the grid search\n",
    "param_grid = {'model__n_estimators': np.linspace(200, 400, 5).astype(int),\n",
    "              'model__criterion': ['gini', 'entropy'],\n",
    "              'model__max_depth': np.linspace(5, 15, 5).astype(int),\n",
    "              'model__max_features': np.linspace(40, 100, 5).astype(int),\n",
    "              'model__min_samples_leaf': np.linspace(3, 7, 5).astype(int),\n",
    "              'model__min_samples_split': np.linspace(3, 7, 5).astype(int)}\n",
    "\n",
    "# Estimator values between linspace were chosen by running the model a couple of times\n",
    "# And finetuning these parameters to values close to the best parameters found in the previous runs\n",
    "\n",
    "# Perform the grid search of the parameters with the default 5-fold cross validation\n",
    "grid_search = GridSearchCV(estimator = pipelineRF,\n",
    "                           param_grid = param_grid,\n",
    "                           scoring = 'f1',\n",
    "                           n_jobs = -1,\n",
    "                           verbose = 2) \n",
    "\n",
    "# Fit the model\n",
    "grid_search.fit(X_train, Y_train)\n",
    "\n",
    "# Show the best parameters of the model\n",
    "print('Best parameters: {}'.format(grid_search.best_params_))\n",
    "\n",
    "# Use these parameters to make predictions\n",
    "Y_pred = grid_search.best_estimator_.predict(X_test)"
   ]
  },
  {
   "cell_type": "code",
   "execution_count": 10,
   "metadata": {},
   "outputs": [
    {
     "name": "stdout",
     "output_type": "stream",
     "text": [
      "Precision = \n",
      " 0.6666666666666666\n",
      "\n",
      "              precision    recall  f1-score   support\n",
      "\n",
      "           0       0.85      0.94      0.89        18\n",
      "           1       0.67      0.40      0.50         5\n",
      "\n",
      "    accuracy                           0.83        23\n",
      "   macro avg       0.76      0.67      0.70        23\n",
      "weighted avg       0.81      0.83      0.81        23\n",
      "\n"
     ]
    },
    {
     "data": {
      "text/plain": [
       "0.6666666666666666"
      ]
     },
     "execution_count": 10,
     "metadata": {},
     "output_type": "execute_result"
    }
   ],
   "source": [
    "#___Calculate the precision of the random forests, and compare with the performance of the SVM___\n",
    "\n",
    "print('Precision = \\n {}'.format(precision_score(Y_test, Y_pred)))\n",
    "print('\\n{}'.format(classification_report(Y_test, Y_pred)))\n",
    "\n",
    "precision(Y_test, Y_pred)"
   ]
  },
  {
   "cell_type": "markdown",
   "metadata": {},
   "source": [
    "***Question***: Compare the SVM algorithm with the random forests, and report which one has better performance. \n",
    "\n",
    "***Answer***: ‘Support’ shows how often each class is present in the targets of the test set. What is noticeable is that class 0 (sensitive cell lines) occurs far more often in the test set than class 1 (resistant cell lines). We want to take this label imbalance into account when looking at the performance of the models. Therefore, we look at the weighted average instead of the macro average of the models.\n",
    "\n",
    "\n",
    "What metrics is best to evaluate the performance of the model, depends on the goal of the model. The precision is the ratio of tp / (tp + fp). We want this number to be high, when the consequences of false positives are high. For example on class 1 on this dataset false positive would mean that the cell line is predicted to be resistant to a drug (class 1), while in reality it is sensitive to the drug (class 0). This could result in wrongly not treating the patient with the drug. When we want to avoid this mistake, we should choose the model with the highest precision. Here the SVM has the highest precision of 0.88, while the RF (random forests) has the lower precision of 0.81.\n",
    "\n",
    "\n",
    "The recall is the ratio of tp / (tp + fn). This metrics should be high when the consequences of a false negative are high. Again as example on class 1 on this dataset false negative would mean that the cell line is predicted to be sensitive to a drug (class 0), while in reality it is resistant to a drug (class 1). This could result in wrongly giving a patient a drug which has no effect. When it is important to avoid this mistake, we should choose the model with the highest recall. Here the SVM has the highest recall of 0.87, while the RF has the lowest recall of 0.83.\n",
    "\n",
    "\n",
    "The F1 score combines both the precision and the recall into one score, in which both measures contribute equal to this F1 score. For the SVM model the weighted average F1 score is 0.87, whereas for the RF model the weighted average F1 score is 0.81. A F1 score of 1 is best, while a F1 score of 0 is worst. Thus, the SVM model has on overall the best performance. Evaluating the F1 score for these two models was not strictly necessary, since the SVM already had a better precision and recall performance as compared to the RF.  "
   ]
  },
  {
   "cell_type": "markdown",
   "metadata": {},
   "source": [
    "The random forests classifiers allows to perform feature selection. Evaluate the importance of features extracting the top 50 informative features. A bar plot (`plt.bar()`) can be a useful tool to visualize this. "
   ]
  },
  {
   "cell_type": "code",
   "execution_count": 11,
   "metadata": {},
   "outputs": [
    {
     "data": {
      "image/png": "[encoded data removed]",
      "text/plain": [
       "<Figure size 1440x720 with 1 Axes>"
      ]
     },
     "metadata": {
      "needs_background": "light"
     },
     "output_type": "display_data"
    }
   ],
   "source": [
    "#___ Visualise the top 50 informative features___\n",
    "\n",
    "# Get the feature importances and their labels from the grid search\n",
    "feature_importances = grid_search.best_estimator_._final_estimator.feature_importances_\n",
    "labels = gene_expression.columns\n",
    "labelled_importances = pd.Series(feature_importances, labels)\n",
    "\n",
    "# Rearange the importances from largest to smallest\n",
    "rearanged_importances = labelled_importances.sort_values(ascending = False)\n",
    "\n",
    "# Get the top 50 informative features\n",
    "top50 = rearanged_importances[0:50]\n",
    "\n",
    "# Rearange the top 50 feature importances from smallest to largest\n",
    "rearanged_top50 = top50.sort_values(ascending = True)\n",
    "\n",
    "plt.figure(figsize=(20,10))\n",
    "plt.barh(rearanged_top50.index, rearanged_top50)\n",
    "plt.title('Feature importances of the top 50 informative features')\n",
    "plt.xlabel('Feature importances')\n",
    "plt.ylabel('Features')\n",
    "plt.show()"
   ]
  },
  {
   "cell_type": "markdown",
   "metadata": {},
   "source": [
    "## Biomedical applications\n",
    "\n",
    "Driven by technological advances, there has recently been a dramatic increase in availability of biomedical data. Machine learning approaches are well suited to take advantage of this data and have been widely applied to many areas of biology. \n",
    "\n",
    "Example of these applications are genome annotation, biomarker identification, systems biology, genome data analysis, protein  function  prediction, protein  structure prediction, protein localization prediction, identification of protein interactions and drug discovery.\n",
    "\n",
    "SVM and RF methods are among the most popular machine learning methods applied in bioinformatics or computational biology.\n",
    "\n",
    "Perform a literature search and find a biomedical study in which SVM or RF is applied to obtain certain insights. <p><font color='#770a0a'>Explain the motivation behind using that specific algorithm in the study.\n",
    "</font></p>"
   ]
  },
  {
   "cell_type": "markdown",
   "metadata": {},
   "source": [
    "The article _PPI-Detect: A support vector machine model for sequence-based prediction of protein–protein interactions_ by Sandra Romero-Molina, Yasser B Ruiz-Blanco, Mirja Harms, Jan Münch and Elsa Sanchez-Garcia applies SVM to predict whether two proteins will interact or not based on amino acis sequences. They built a model that first translates amino acid squences into protein domain sequences and then into feature vectors that are more easily accepted by machine learning applications. With a training dataset containing these feature vectors and labels, a SVM was trained to predict whether a pair of protein domains would have interaction.  \n",
    "SVM was chosen for its robustness and because it was successfully used in previous approaches to predict protein-protein interactions, which makes testing and comparing with previous literature easier."
   ]
  }
 ],
 "metadata": {
  "kernelspec": {
   "display_name": "Python 3 (ipykernel)",
   "language": "python",
   "name": "python3"
  },
  "language_info": {
   "codemirror_mode": {
    "name": "ipython",
    "version": 3
   },
   "file_extension": ".py",
   "mimetype": "text/x-python",
   "name": "python",
   "nbconvert_exporter": "python",
   "pygments_lexer": "ipython3",
   "version": "3.8.8"
  }
 },
 "nbformat": 4,
 "nbformat_minor": 2
}
