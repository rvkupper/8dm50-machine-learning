{
 "cells": [
  {
   "cell_type": "code",
   "execution_count": 1,
   "metadata": {},
   "outputs": [
    {
     "name": "stdout",
     "output_type": "stream",
     "text": [
      "(569, 30)\n",
      "(569, 1)\n",
      "(300, 1)\n",
      "(300, 1)\n",
      "(269, 1)\n",
      "(269, 1)\n"
     ]
    }
   ],
   "source": [
    "import numpy as np\n",
    "import scipy\n",
    "from sklearn.datasets import load_diabetes, load_breast_cancer\n",
    "\n",
    "diabetes = load_diabetes()\n",
    "\n",
    "breast_cancer = load_breast_cancer()\n",
    "\n",
    "X = breast_cancer.data\n",
    "Y = breast_cancer.target[:, np.newaxis]\n",
    "\n",
    "print(X.shape)\n",
    "print(Y.shape)\n",
    "\n",
    "\n",
    "\n",
    "# use the fourth feature\n",
    "# use the first 300 training samples for training, and the rest for testing\n",
    "X_train = breast_cancer.data[:300, np.newaxis, 3]\n",
    "y_train = breast_cancer.target[:300, np.newaxis]\n",
    "X_test = breast_cancer.data[300:, np.newaxis, 3]\n",
    "y_test = breast_cancer.target[300:, np.newaxis]\n",
    "print(X_train.shape)\n",
    "print(y_train.shape)\n",
    "print(X_test.shape)\n",
    "print(y_test.shape)\n",
    "\n",
    "import sys\n",
    "sys.path.append('code/')\n",
    "\n",
    "# the actual implementation is in linear_regression.py,\n",
    "# here we will just use it to fit a model\n",
    "from linear_regression import *\n",
    "\n",
    "# load the dataset\n",
    "# same as before, but now we use all features\n",
    "X_train = breast_cancer.data[:300, :]\n",
    "y_train = breast_cancer.target[:300, np.newaxis]\n",
    "X_test = breast_cancer.data[300:, :]\n",
    "y_test = breast_cancer.target[300:, np.newaxis]"
   ]
  },
  {
   "cell_type": "code",
   "execution_count": 31,
   "metadata": {},
   "outputs": [],
   "source": [
    "def normalize(X):\n",
    "    x1_min = min(X_train[:,0])\n",
    "    x1_max = max(X_train[:,0])\n",
    "    \n",
    "    f = lambda x: (x - x1_min)/(x1_max-x1_min)\n",
    "    X[:,0] = f(X[:,0])\n",
    "    \n",
    "    x2_min = min(X_train[:,1])\n",
    "    x2_max = max(X_train[:,1])\n",
    "    \n",
    "    f = lambda x: (x - x2_min)/(x2_max-x2_min)\n",
    "    X[:,1] = f(X[:,1])\n",
    "    \n",
    "    return X\n"
   ]
  },
  {
   "cell_type": "code",
   "execution_count": 34,
   "metadata": {},
   "outputs": [],
   "source": [
    "X_train = normalize(X_train)\n",
    "#y_train = normalize(y_train)\n",
    "\n",
    "X_test = normalize(X_test)\n",
    "#y_test = normalize(y_test)"
   ]
  },
  {
   "cell_type": "code",
   "execution_count": 35,
   "metadata": {},
   "outputs": [],
   "source": [
    "def euclidean_distance(row1, row2):\n",
    "    distance = 0.0\n",
    "    for i in range(len(row1)):\n",
    "        distance += (row1[i] - row2[i])**2\n",
    "    return sqrt(distance)\n"
   ]
  },
  {
   "cell_type": "code",
   "execution_count": 36,
   "metadata": {},
   "outputs": [],
   "source": [
    "def get_neighbours(train, test_row, k):\n",
    "    distances = list()\n",
    "    for train_row in train:\n",
    "        dist = euclidean_distance(test_row, train_row)\n",
    "        distances.append((train_row, dist))\n",
    "    distances.sort(key=lambda tup: tup[1])\n",
    "    neighbours = list()\n",
    "    for i in range(k):\n",
    "        neighbours.append(distances[i][0])\n",
    "    return neighbours"
   ]
  },
  {
   "cell_type": "code",
   "execution_count": 37,
   "metadata": {},
   "outputs": [],
   "source": [
    "def predict_classification(train, test_row, k):\n",
    "    neighbours = get_neighbours(train, test_row, k)\n",
    "    output_values = [row[-1] for row in neighbours]\n",
    "    prediction = max(set(outputvalues_, key=output_values.count))\n",
    "    return prediction"
   ]
  },
  {
   "cell_type": "code",
   "execution_count": 39,
   "metadata": {},
   "outputs": [],
   "source": [
    "#prediction = predict_classification(X_train, X_test, 3)\n",
    "#print(prediction)"
   ]
  },
  {
   "cell_type": "code",
   "execution_count": 61,
   "metadata": {},
   "outputs": [
    {
     "data": {
      "text/plain": [
       "1.0"
      ]
     },
     "execution_count": 61,
     "metadata": {},
     "output_type": "execute_result"
    }
   ],
   "source": [
    "def knn_regressor(X_train, y_train, X_test, k):\n",
    "    D = scipy.spatial.distance.cdist(X_test, X_train, metric ='euclidean')\n",
    "    sort_ix =  np.argsort(D, axis=1)\n",
    "    sort_ix_k = sort_ix[:,:k]\n",
    "    predicted_values = y_train[sort_ix_k]\n",
    "    #predicted_values = scipy.stats.mode(predicted_values, axis=1)[0]\n",
    "    #vals_neigh = predicted_values.sum()\n",
    "    \n",
    "    for i in range(len(predicted_values)):\n",
    "        predicted_value = np.sum(predicted_values[i])\n",
    "        predicted_value = predicted_value/k\n",
    "        \n",
    "    \n",
    "    return predicted_value\n",
    "\n",
    "knn_regressor(X_train, y_train, X_test, 3)"
   ]
  },
  {
   "cell_type": "code",
   "execution_count": 12,
   "metadata": {},
   "outputs": [],
   "source": [
    "def kNearestNeighbour_regressor(k, testData, trainingData, trainingLabels):\n",
    "    \"\"\"k Nearest neighbour algorithm for classification of data.\n",
    "    \n",
    "    :param k: nr of neighbours to be considered.\n",
    "    :param testData: array of datapoints to be labelled.\n",
    "    :param trainingData: reference datapoints with known labels.\n",
    "    :param trainingLabels: array of labels that belong to the trainingData.\n",
    "    :returns: array of labels for testData.\n",
    "    \"\"\"\n",
    "    newLabels = []\n",
    "    for newPoint in testData:\n",
    "        dist = np.linalg.norm(trainingData - newPoint, axis=1)    # Caulculate Euclidean distance per new point \n",
    "        nearestNeighbours = np.argsort(dist)[:k]            # Find nearest neighbours per point \n",
    "        nearestLabels = np.array(trainingLabels[nearestNeighbours])\n",
    "        newLabels.append([nearestLabels.mean()])\n",
    "    newLabels = np.array(newLabels)\n",
    "        \n",
    "    return predictedLabels"
   ]
  },
  {
   "cell_type": "code",
   "execution_count": 13,
   "metadata": {},
   "outputs": [],
   "source": [
    "predictedLabels = kNearestNeighbour(5, X_test, X_train, y_train)"
   ]
  },
  {
   "cell_type": "code",
   "execution_count": 26,
   "metadata": {},
   "outputs": [
    {
     "data": {
      "text/plain": [
       "array([32.43333333])"
      ]
     },
     "execution_count": 26,
     "metadata": {},
     "output_type": "execute_result"
    }
   ],
   "source": [
    "def evalkNNRegressor(k, testData, testLabels, trainingData, trainingLabels):\n",
    "    predictedLabels = kNearestNeighbour(k, testData, trainingData, trainingLabels)\n",
    "    totalError = 0\n",
    "    for i in range(len(predictedLabels)):\n",
    "        totalError += abs(predictedLabels[i] - testLabels[i])\n",
    "    return totalError\n",
    "\n",
    "evalkNNRegressor(5, X_test, y_test, X_train, y_train)\n",
    "#print(evalkNNRegressor(predictedLabels, y_test)        \n"
   ]
  },
  {
   "cell_type": "code",
   "execution_count": 32,
   "metadata": {},
   "outputs": [
    {
     "name": "stdout",
     "output_type": "stream",
     "text": [
      "30\n"
     ]
    }
   ],
   "source": [
    "\n",
    "\n",
    "scores = []\n",
    "\n",
    "for i in range(1, 31):\n",
    "    scores.append(evalkNNRegressor(i, X_test, y_test, X_train, y_train))\n",
    "    \n",
    "print(scores)"
   ]
  },
  {
   "cell_type": "code",
   "execution_count": 41,
   "metadata": {},
   "outputs": [
    {
     "data": {
      "text/plain": [
       "Text(0, 0.5, 'total error found')"
      ]
     },
     "execution_count": 41,
     "metadata": {},
     "output_type": "execute_result"
    },
    {
     "data": {
      "image/png": "[encoded data removed]",
      "text/plain": [
       "<Figure size 432x288 with 1 Axes>"
      ]
     },
     "metadata": {
      "needs_background": "light"
     },
     "output_type": "display_data"
    }
   ],
   "source": [
    "import matplotlib.pyplot as plt\n",
    "\n",
    "x_axis = range(1,31)\n",
    "y_axis = scores\n",
    "\n",
    "plt.plot(x_axis, y_axis, marker='o')\n",
    "plt.xlabel('k Nearest Neighbours considered')\n",
    "plt.ylabel('total error found')"
   ]
  }
 ],
 "metadata": {
  "kernelspec": {
   "display_name": "Python 3",
   "language": "python",
   "name": "python3"
  },
  "language_info": {
   "codemirror_mode": {
    "name": "ipython",
    "version": 3
   },
   "file_extension": ".py",
   "mimetype": "text/x-python",
   "name": "python",
   "nbconvert_exporter": "python",
   "pygments_lexer": "ipython3",
   "version": "3.8.5"
  }
 },
 "nbformat": 4,
 "nbformat_minor": 4
}
