{
 "cells": [
  {
   "cell_type": "markdown",
   "metadata": {},
   "source": [
    "# Preliminaries\n",
    "\n",
    "The `pandas` library allows the user several data structures for different data manipulation tasks:\n",
    "1. Data storage through its `Series` and `DataFrame` data structures.\n",
    "2. Data filtering using multiple methods from the package.\n",
    "3. Reading data from many different file formats such as `csv`, `txt`, `xlsx`, ...\n",
    "\n",
    "Below we provide a brief overview of the `pandas` functionalities needed for these exercises. The complete documentation can be found on the [`pandas` website](https://pandas.pydata.org/).\n",
    "\n",
    "## Pandas data structures\n",
    "\n",
    "### Series\n",
    "The Pandas Series data structure is similar to a one-dimensional array. It can store any type of data. The values are mutable but the size not.\n",
    "\n",
    "To create `Series`, we call the `pd.Series()` method and pass an array. A `Series` may also be created from a numpy array."
   ]
  },
  {
   "cell_type": "code",
   "execution_count": 1,
   "metadata": {},
   "outputs": [
    {
     "name": "stdout",
     "output_type": "stream",
     "text": [
      "0       1\n",
      "1      10\n",
      "2     100\n",
      "3    1000\n",
      "dtype: int64\n",
      "\n",
      "\n",
      "0          PSV\n",
      "1         Ajax\n",
      "2    Feyenoord\n",
      "3       Twente\n",
      "dtype: object\n"
     ]
    }
   ],
   "source": [
    "import pandas as pd\n",
    "import numpy as np\n",
    "\n",
    "first_series = pd.Series([1,10,100,1000])\n",
    "\n",
    "print(first_series)\n",
    "\n",
    "teams = np.array(['PSV','Ajax','Feyenoord','Twente'])\n",
    "second_series = pd.Series(teams)\n",
    "\n",
    "print('\\n')\n",
    "print(second_series)"
   ]
  },
  {
   "cell_type": "markdown",
   "metadata": {},
   "source": [
    "### DataFrame\n",
    "One can think of a `DataFrame` as a table with rows and columns (2D structure). The columns can be of a different type (as opposed to `numpy` arrays) and the size of the `DataFrame` is mutable.\n",
    "\n",
    "To create `DataFrame`, we call the `pd.DataFrame()` method and we can create it from scratch or we can convert a numpy array or a list into a `DataFrame`."
   ]
  },
  {
   "cell_type": "code",
   "execution_count": 2,
   "metadata": {},
   "outputs": [
    {
     "name": "stdout",
     "output_type": "stream",
     "text": [
      "From scratch: \n",
      "    Position       Team  GF  GA  Points\n",
      "0         1        PSV  80  30      79\n",
      "1         2       Ajax  75  25      78\n",
      "2         3  Feyenoord  75  40      70\n",
      "3         4     Twente  70  60      66 \n",
      "\n",
      "From list: \n",
      "   Position       Team  GF  GA Points\n",
      "0        1        PSV  80  30     79\n",
      "1        2       Ajax  75  25     78\n",
      "2        3  Feyenoord  75  40     70\n",
      "3        4     Twente  70  60     66 \n",
      "\n",
      "From numpy array: \n",
      "   Position       Team  GF  GA Points\n",
      "0        1        PSV  80  30     79\n",
      "1        2       Ajax  75  25     78\n",
      "2        3  Feyenoord  75  40     70\n",
      "3        4     Twente  70  60     66 \n",
      "\n"
     ]
    }
   ],
   "source": [
    "# DataFrame from scratch\n",
    "first_dataframe = pd.DataFrame({\n",
    "    \"Position\": [1, 2, 3, 4],\n",
    "    \"Team\": ['PSV','Ajax','Feyenoord','Twente'],\n",
    "    \"GF\": [80, 75, 75, 70],\n",
    "    \"GA\": [30, 25, 40, 60],\n",
    "    \"Points\": [79, 78, 70, 66]\n",
    "})\n",
    "\n",
    "print(\"From scratch: \\n {} \\n\".format(first_dataframe))\n",
    "\n",
    "# DataFrme from a list\n",
    "data = [[1, 2, 3, 4], ['PSV','Ajax','Feyenoord','Twente'], \n",
    "        [80, 75, 75, 70], [30, 25, 40, 60], [79, 78, 70, 66]]\n",
    "columns = [\"Position\", \"Team\", \"GF\", \"GA\", \"Points\"]\n",
    "\n",
    "second_dataframe = pd.DataFrame(data, index=columns)\n",
    "\n",
    "print(\"From list: \\n {} \\n\".format(second_dataframe.T)) # the '.T' operator is explained later on\n",
    "\n",
    "# DataFrame from numpy array\n",
    "data = np.array([[1, 2, 3, 4], ['PSV','Ajax','Feyenoord','Twente'], \n",
    "                 [80, 75, 75, 70], [30, 25, 40, 60], [79, 78, 70, 66]])\n",
    "columns = [\"Position\", \"Team\", \"GF\", \"GA\", \"Points\"]\n",
    "\n",
    "third_dataframe = pd.DataFrame(data.T, columns=columns)\n",
    "\n",
    "print(\"From numpy array: \\n {} \\n\".format(third_dataframe))"
   ]
  },
  {
   "cell_type": "markdown",
   "metadata": {},
   "source": [
    "### DataFrame attributes\n",
    "This section gives a quick overview of some of the `pandas.DataFrame` attributes such as `T`, `index`, `columns`, `iloc`, `loc`, `shape` and `values`."
   ]
  },
  {
   "cell_type": "code",
   "execution_count": 3,
   "metadata": {},
   "outputs": [
    {
     "name": "stdout",
     "output_type": "stream",
     "text": [
      "            0     1          2       3\n",
      "Position    1     2          3       4\n",
      "Team      PSV  Ajax  Feyenoord  Twente\n",
      "GF         80    75         75      70\n",
      "GA         30    25         40      60\n",
      "Points     79    78         70      66\n"
     ]
    }
   ],
   "source": [
    "# transpose the index and columns\n",
    "print(third_dataframe.T)"
   ]
  },
  {
   "cell_type": "code",
   "execution_count": 4,
   "metadata": {},
   "outputs": [
    {
     "name": "stdout",
     "output_type": "stream",
     "text": [
      "RangeIndex(start=0, stop=4, step=1)\n"
     ]
    }
   ],
   "source": [
    "# index makes reference to the row labels\n",
    "print(third_dataframe.index)"
   ]
  },
  {
   "cell_type": "code",
   "execution_count": 5,
   "metadata": {},
   "outputs": [
    {
     "name": "stdout",
     "output_type": "stream",
     "text": [
      "Index(['Position', 'Team', 'GF', 'GA', 'Points'], dtype='object')\n"
     ]
    }
   ],
   "source": [
    "# columns makes reference to the column labels\n",
    "print(third_dataframe.columns)"
   ]
  },
  {
   "cell_type": "code",
   "execution_count": 6,
   "metadata": {},
   "outputs": [
    {
     "name": "stdout",
     "output_type": "stream",
     "text": [
      "0          PSV\n",
      "1         Ajax\n",
      "2    Feyenoord\n",
      "3       Twente\n",
      "Name: Team, dtype: object\n"
     ]
    }
   ],
   "source": [
    "# iloc allows to access the index by integer-location (e.g. all team names, which are in the second columm)\n",
    "print(third_dataframe.iloc[:,1])"
   ]
  },
  {
   "cell_type": "code",
   "execution_count": 7,
   "metadata": {},
   "outputs": [
    {
     "name": "stdout",
     "output_type": "stream",
     "text": [
      "PSV\n"
     ]
    }
   ],
   "source": [
    "# loc allows to access the index by label(s)-location (e.g. all team names, which are in the \"Team\" columm)\n",
    "print(third_dataframe.loc[0, 'Team'])"
   ]
  },
  {
   "cell_type": "code",
   "execution_count": 8,
   "metadata": {},
   "outputs": [
    {
     "name": "stdout",
     "output_type": "stream",
     "text": [
      "(4, 5)\n"
     ]
    }
   ],
   "source": [
    "# shape returns a tuple with the DataFrame dimension, similar to numpy\n",
    "print(third_dataframe.shape)"
   ]
  },
  {
   "cell_type": "code",
   "execution_count": 9,
   "metadata": {},
   "outputs": [
    {
     "name": "stdout",
     "output_type": "stream",
     "text": [
      "[['1' 'PSV' '80' '30' '79']\n",
      " ['2' 'Ajax' '75' '25' '78']\n",
      " ['3' 'Feyenoord' '75' '40' '70']\n",
      " ['4' 'Twente' '70' '60' '66']]\n"
     ]
    }
   ],
   "source": [
    "# values return a Numpy representation of the DataFrame data\n",
    "print(third_dataframe.values)"
   ]
  },
  {
   "cell_type": "markdown",
   "metadata": {},
   "source": [
    "### DataFrame methods\n",
    "This section gives a quick overview of some of the `pandas.DataFrame` methods such as `head`, `describe`, `concat`, `groupby`,`rename`, `filter`, `drop` and `isna`. To import data from CSV or MS Excel files, we can make use of `read_csv` and `read_excel`, respectively."
   ]
  },
  {
   "cell_type": "code",
   "execution_count": 10,
   "metadata": {},
   "outputs": [
    {
     "name": "stdout",
     "output_type": "stream",
     "text": [
      "  Position       Team  GF  GA Points\n",
      "0        1        PSV  80  30     79\n",
      "1        2       Ajax  75  25     78\n",
      "2        3  Feyenoord  75  40     70\n",
      "3        4     Twente  70  60     66\n"
     ]
    }
   ],
   "source": [
    "# print the first few rows in your dataset with head()\n",
    "print(third_dataframe.head()) # In this case, it is not very useful because we don't have thousands of rows"
   ]
  },
  {
   "cell_type": "code",
   "execution_count": 11,
   "metadata": {},
   "outputs": [
    {
     "name": "stdout",
     "output_type": "stream",
     "text": [
      "       Position Team  GF  GA Points\n",
      "count         4    4   4   4      4\n",
      "unique        4    4   3   4      4\n",
      "top           2  PSV  75  25     79\n",
      "freq          1    1   2   1      1\n"
     ]
    }
   ],
   "source": [
    "# get the summary statistics of the DataFrame with describe()\n",
    "print(third_dataframe.describe())"
   ]
  },
  {
   "cell_type": "code",
   "execution_count": 12,
   "metadata": {},
   "outputs": [
    {
     "name": "stdout",
     "output_type": "stream",
     "text": [
      "  Position  Team  GF  GA Points\n",
      "0        1   PSV  80  30     79\n",
      "1        2  Ajax  75  25     78\n",
      "\n",
      "\n",
      "  Position       Team  GF  GA Points\n",
      "2        3  Feyenoord  75  40     70\n",
      "3        4     Twente  70  60     66\n",
      "\n",
      "\n",
      "  Position       Team  GF  GA Points\n",
      "0        1        PSV  80  30     79\n",
      "1        2       Ajax  75  25     78\n",
      "2        3  Feyenoord  75  40     70\n",
      "3        4     Twente  70  60     66\n"
     ]
    }
   ],
   "source": [
    "# concatenate (join) DataFrame objects using concat()\n",
    "\n",
    "# first, we will split the above DataFrame in two different ones\n",
    "df_a = third_dataframe.loc[[0,1],:]\n",
    "df_b = third_dataframe.loc[[2,3],:]\n",
    "\n",
    "print(df_a)\n",
    "print('\\n')\n",
    "\n",
    "print(df_b)\n",
    "print('\\n')\n",
    "\n",
    "# now, we concatenate both datasets\n",
    "df = pd.concat([df_a, df_b])\n",
    "\n",
    "print(df)"
   ]
  },
  {
   "cell_type": "code",
   "execution_count": 13,
   "metadata": {},
   "outputs": [
    {
     "name": "stdout",
     "output_type": "stream",
     "text": [
      "  Position       Team  GF  GA Points\n",
      "1        2       Ajax  75  25     78\n",
      "2        3  Feyenoord  75  40     70\n"
     ]
    }
   ],
   "source": [
    "# group the data by certain variable via groupby()\n",
    "# here, we have grouped the data by goals for, which in this case is 75\n",
    "\n",
    "group = df.groupby('GF')\n",
    "\n",
    "print(group.get_group('75'))"
   ]
  },
  {
   "cell_type": "code",
   "execution_count": 14,
   "metadata": {},
   "outputs": [
    {
     "name": "stdout",
     "output_type": "stream",
     "text": [
      "  Pos       Club  GF  GA Points\n",
      "0   1        PSV  80  30     79\n",
      "1   2       Ajax  75  25     78\n",
      "2   3  Feyenoord  75  40     70\n",
      "3   4     Twente  70  60     66\n"
     ]
    }
   ],
   "source": [
    "# rename() helps you change the column or index names\n",
    "print(df.rename(columns={'Position':'Pos','Team':'Club'}))"
   ]
  },
  {
   "cell_type": "code",
   "execution_count": 15,
   "metadata": {},
   "outputs": [
    {
     "name": "stdout",
     "output_type": "stream",
     "text": [
      "        Team Points\n",
      "0        PSV     79\n",
      "1       Ajax     78\n",
      "2  Feyenoord     70\n",
      "3     Twente     66\n"
     ]
    }
   ],
   "source": [
    "# build a subset of rows or columns of your dataset according to labels via filter()\n",
    "# here, items refer to the variable names: 'Team' and 'Points'; to select columns, we specify axis=1\n",
    "print(df.filter(items=['Team', 'Points'], axis=1))"
   ]
  },
  {
   "cell_type": "code",
   "execution_count": 16,
   "metadata": {},
   "outputs": [
    {
     "name": "stdout",
     "output_type": "stream",
     "text": [
      "  Position       Team Points\n",
      "0        1        PSV     79\n",
      "1        2       Ajax     78\n",
      "2        3  Feyenoord     70\n",
      "3        4     Twente     66\n"
     ]
    }
   ],
   "source": [
    "# dropping some labels\n",
    "print(df.drop(columns=['GF', 'GA']))"
   ]
  },
  {
   "cell_type": "code",
   "execution_count": 17,
   "metadata": {},
   "outputs": [
    {
     "name": "stdout",
     "output_type": "stream",
     "text": [
      "   Position   Team     GF     GA  Points\n",
      "0     False  False  False  False   False\n",
      "1     False  False  False  False   False\n",
      "2     False  False  False  False   False\n",
      "3     False  False  False  False   False\n",
      "\n",
      "\n",
      "  Position       Team  GF  GA Points     W\n",
      "0        1        PSV  80  30     79   NaN\n",
      "1        2       Ajax  75  25     78  25.0\n",
      "2        3  Feyenoord  75  40     70  24.0\n",
      "3        4     Twente  70  60     66  19.0\n",
      "\n",
      "\n",
      "   Position   Team     GF     GA  Points      W\n",
      "0     False  False  False  False   False   True\n",
      "1     False  False  False  False   False  False\n",
      "2     False  False  False  False   False  False\n",
      "3     False  False  False  False   False  False\n"
     ]
    }
   ],
   "source": [
    "# search for NA (not available) entries in the DataFrame\n",
    "print(df.isna()) # No NA values\n",
    "print('\\n')\n",
    "\n",
    "# create a pandas Series with a NA value\n",
    "# the Series as W (winnin matches)\n",
    "tmp = pd.Series([np.NaN, 25, 24, 19],  name=\"W\")\n",
    "\n",
    "# concatenate the Series with the DataFrame\n",
    "df = pd.concat([df,tmp], axis = 1)\n",
    "print(df)\n",
    "print('\\n')\n",
    "\n",
    "# again, check for NA entries\n",
    "print(df.isna())"
   ]
  },
  {
   "cell_type": "markdown",
   "metadata": {},
   "source": [
    "## Dataset\n",
    "\n",
    "For this week exercises we will use a dataset from the Genomics of Drug Sensitivity in Cancer (GDSC) project (https://www.cancerrxgene.org/). In this study (['Iorio et al., Cell, 2016']()), 265 compounds were tested on 1001 cancer cell lines for which different types of -omics data (RNA expression, DNA methylation, Copy Number Alteration, DNA sequencing) are available. This is a valuable resource to look for biomarkers of drugs sensitivity in order to try to understand why cancer patients responds very differently to cancer drugs and find ways to assign the optimal treatment to each patient.\n",
    "\n",
    "For this exercise we will use a subset of the data, focusing the response to the drug YM155 (Sepantronium bromide) on four cancer types, for a total of 148 cancer cell lines.\n",
    "\n",
    "| ID          | Cancer type                      |\n",
    "|-------------|----------------------------------|\n",
    "|   COAD/READ | Colorectal adenocarcinoma        |\n",
    "|   NB        | Neuroblastoma                    |\n",
    "|   KIRC      | Kidney renal clear cell carcinoma|\n",
    "|   BRCA      | Breast carcinoma                 |\n",
    "\n",
    "We will use the RNA expression data (RMA normalised). Only genes with high variability across cell lines (variance > 5, resulting in 238 genes) have been kept.\n",
    "\n",
    "Drugs have been tested at different concentration, measuring each time the viability of the cells. Drug sensitivity is measured using the natural log of the fitted IC50 metric, which is defined as the half maximal inhibitory concentration. A lower IC50 corresponds to a more sensitive cell line because a lower amount of drug is sufficient to have a strong response, while a higher IC50 corresponds to a more resistant cell line because more drug is needed for killing the cells.\n",
    "\n",
    "Based on the IC50 metric, cells can be classified as sensitive or resistant. The classification is done by computing the $z$-score across all cell lines in the GDSC for each drug, and considering as sensitive the ones with $z$-score < 0 and resistant the ones with $z$-score > 0.\n",
    "\n",
    "The dataset is originally provided as 3 files ([original source](https://www.sciencedirect.com/science/article/pii/S0092867416307462?via%3Dihub)) :\n",
    "\n",
    "`GDSC_RNA_expression.csv`: gene expression matrix with the cell lines in the rows (148) and the genes in the columns (238).\n",
    "\n",
    "`GDSC_drug_response.csv`: vector with the cell lines response to the drug YM155 in terms of log(IC50) and as classification in sensitive or resistant.\n",
    "\n",
    "`GDSC_metadata.csv`: metadata for the 148 cell lines including name, COSMIC ID and tumor type (using the classification from ['The Cancer Genome Atlas TCGA'](https://www.cancer.gov/about-nci/organization/ccg/research/structural-genomics/tcga))\n",
    "\n",
    "For convenience, we provide the data already curated.\n",
    "\n",
    "`RNA_expression_curated.csv`: [148 cell lines , 238 genes]\n",
    "\n",
    "`drug_response_curated.csv`: [148 cell lines , YM155 drug]\n",
    "\n",
    "The curated data cam be read as `pandas` `DataFrame`s in the following way:"
   ]
  },
  {
   "cell_type": "code",
   "execution_count": 18,
   "metadata": {},
   "outputs": [],
   "source": [
    "import pandas as pd\n",
    "\n",
    "gene_expression = pd.read_csv(\"./data/RNA_expression_curated.csv\", sep=',', header=0, index_col=0)\n",
    "drug_response = pd.read_csv(\"./data/drug_response_curated.csv\", sep=',', header=0, index_col=0)"
   ]
  },
  {
   "cell_type": "markdown",
   "metadata": {},
   "source": [
    "You can use the `DataFrame`s directly as inputs to the the `sklearn` models. The advantage over using `numpy` arrays is that the variable are annotated, i.e. each input and output has a name."
   ]
  },
  {
   "cell_type": "markdown",
   "metadata": {},
   "source": [
    "## Tools\n",
    "The `scikit-learn` library provides the required tools for linear regression/classification and shrinkage, as well as for logistic regression."
   ]
  },
  {
   "cell_type": "code",
   "execution_count": 19,
   "metadata": {},
   "outputs": [],
   "source": [
    "from sklearn.linear_model import LinearRegression\n",
    "from sklearn.linear_model import Ridge\n",
    "from sklearn.linear_model import Lasso\n",
    "from sklearn.linear_model import LogisticRegression"
   ]
  },
  {
   "cell_type": "markdown",
   "metadata": {},
   "source": [
    "Note that the notation used for the hyperparameters in the `scikit-learn` library is different from the one used in the lecture. More specifically, in the lecture $\\alpha$ is the tunable parameter to select the compromise between Ridge and Lasso. Whereas, `scikit-learn` library refers to `alpha` as the tunable parameter $\\lambda$. Please check the documentation for more details."
   ]
  },
  {
   "cell_type": "markdown",
   "metadata": {},
   "source": [
    "# Exercises\n",
    "\n",
    "## Selection of the hyperparameter\n",
    "\n",
    "Implement cross-validation (using `sklearn.grid_search.GridSearchCV`) to select the `alpha` hyperparameter of `sklearn.linear_model.Lasso`. \n"
   ]
  },
  {
   "cell_type": "code",
   "execution_count": 20,
   "metadata": {},
   "outputs": [
    {
     "name": "stdout",
     "output_type": "stream",
     "text": [
      "{'model__alpha': 0.29470517025518095}\n"
     ]
    }
   ],
   "source": [
    "from sklearn.preprocessing import StandardScaler\n",
    "from sklearn.pipeline import Pipeline\n",
    "from sklearn.model_selection import train_test_split, GridSearchCV\n",
    "from sklearn.linear_model import Lasso\n",
    "import numpy as np\n",
    "import pandas as pd\n",
    "import matplotlib.pyplot as plt\n",
    "\n",
    "X = pd.read_csv(\"./data/RNA_expression_curated.csv\", sep=',', header=0, index_col=0) # gene expression\n",
    "y = pd.read_csv(\"./data/drug_response_curated.csv\", sep=',', header=0, index_col=0) # drug response\n",
    "\n",
    "X_train, X_test, y_train, y_test = train_test_split(X, y, test_size = 0.1, random_state = 42)\n",
    "\n",
    "\"\"\"\n",
    "  Setting random_state as an int will produce the same results each time the code is run. Popular integer random seeds are \n",
    "0 and 42. From \"https://scikit-learn.org/stable/glossary.html#term-random_state\".\n",
    "\n",
    "  We now create a processing pipeline that includes the scaling (in order to transform all features to a have a zero mean \n",
    "and unit variance) and the Lasso models in a sequence.\n",
    "\"\"\"\n",
    "\n",
    "model = Pipeline([\n",
    "                 (\"scaler\", StandardScaler()),\n",
    "                 (\"model\", Lasso(max_iter = 10000, random_state = 42, tol = 0.01))\n",
    "                ])\n",
    "\n",
    "\"\"\"\n",
    "  Cross-validation to select the optimal alpha: Test several values and, for each value, optimize the model for each \n",
    "training set and compute Mean-Squared Error (MSE) for each validation set. Choose the model with smallest cross-validation\n",
    "error. Re-fit using all the available observations and the selected tuning parameter.\n",
    "\n",
    "  numpy.logspace: return numbers spaced evenly on a log scale. In linear space, the sequence starts at base^start and ends\n",
    "with base^stop. From \"https://numpy.org/doc/stable/reference/generated/numpy.logspace.html\".\n",
    "\n",
    "  cv = 10: cross-validation with 10 folds\n",
    "\"\"\"\n",
    "\n",
    "alpha = np.logspace(-4, 1, 50)\n",
    "alphas = [{'model__alpha': alpha}]\n",
    "search = GridSearchCV(estimator = model, param_grid = alphas, cv = 10, scoring=\"neg_mean_squared_error\")\n",
    "\n",
    "\"\"\"\n",
    "  scoring parameter: All scorer objects follow the convention that higher return values are better than lower return values.\n",
    "Thus metrics which measure the distance between the model and the data, like metrics.mean_squared_error, are available as \n",
    "neg_mean_squared_error which return the negated value of the metric. \n",
    "From \"https://scikit-learn.org/stable/modules/model_evaluation.html\"\n",
    "  We use neg_mean_squared_error because the grid search tries to maximize the performance metrics, so we add a minus sign to\n",
    "minimize the mean squared error.\n",
    "\"\"\"\n",
    "\n",
    "search.fit(X_train, y_train)\n",
    "print(search.best_params_)"
   ]
  },
  {
   "cell_type": "code",
   "execution_count": 21,
   "metadata": {},
   "outputs": [
    {
     "data": {
      "image/png": "[encoded data removed]",
      "text/plain": [
       "<Figure size 432x288 with 1 Axes>"
      ]
     },
     "metadata": {
      "needs_background": "light"
     },
     "output_type": "display_data"
    }
   ],
   "source": [
    "results = search.cv_results_['mean_test_score']\n",
    "results_std = search.cv_results_['std_test_score']\n",
    "\n",
    "plt.semilogx(alpha, results, color = 'darkcyan') # x-coordinates on a log scale\n",
    "\n",
    "# Compute std errors to plot results + std error and result - std error\n",
    "std_error = results_std / np.sqrt(10) # the number '10' means that it's a 10-fold cross validation\n",
    "\n",
    "plt.semilogx(alpha, results + std_error, linestyle='--', color = 'darkcyan')\n",
    "plt.semilogx(alpha, results - std_error, linestyle='--', color = 'darkcyan')\n",
    "plt.fill_between(alpha, results + std_error, results - std_error, alpha=0.2, color = 'c')\n",
    "\n",
    "#Uncomment the following two lines to see the horizontal line for maximum score and the horizontal line for optimal lambda\n",
    "#plt.axhline(np.max(results), linestyle='dotted', color='.7') #horizontal line\n",
    "#plt.axvline(0.29470517025518095, linestyle='dotted', color='.7') #vertical line\n",
    "\n",
    "plt.xlabel('Lambda')\n",
    "plt.ylabel('Mean-Squared Error')\n",
    "plt.xlim([alpha[0], alpha[-1]])\n",
    "plt.show()"
   ]
  },
  {
   "cell_type": "markdown",
   "metadata": {},
   "source": [
    "## Feature selection\n",
    "\n",
    "Look at the features selected using the hyperparameter which corresponds to the minimum cross-validation error.\n",
    "\n",
    "<p><font color='#770a0a'>Is the partition in training and validation sets playing a role in the selection of the hyperparameter? How will this affect the selection of the relevant features?</font></p>\n",
    "\n"
   ]
  },
  {
   "cell_type": "code",
   "execution_count": 22,
   "metadata": {
    "scrolled": true
   },
   "outputs": [
    {
     "name": "stdout",
     "output_type": "stream",
     "text": [
      "[fold 2] alpha = 0.47148663634573945, \n",
      " Relevant features = ['CDH17' 'ABCB1' 'FABP1' 'CDX2']\n",
      "[fold 3] alpha = 0.47148663634573945, \n",
      " Relevant features = ['CDH17' 'ABCB1' 'FABP1' 'CDX2']\n",
      "[fold 4] alpha = 0.29470517025518095, \n",
      " Relevant features = ['PRSS3' 'GAL' 'ABCB1' 'RARRES3' 'SELENBP1' 'FABP1' 'CDX2' 'AGR3' 'AKR1C3']\n",
      "[fold 5] alpha = 0.29470517025518095, \n",
      " Relevant features = ['PRSS3' 'GAL' 'ABCB1' 'RARRES3' 'SELENBP1' 'FABP1' 'CDX2' 'AGR3' 'AKR1C3']\n",
      "[fold 6] alpha = 0.29470517025518095, \n",
      " Relevant features = ['PRSS3' 'GAL' 'ABCB1' 'RARRES3' 'SELENBP1' 'FABP1' 'CDX2' 'AGR3' 'AKR1C3']\n",
      "[fold 7] alpha = 0.29470517025518095, \n",
      " Relevant features = ['PRSS3' 'GAL' 'ABCB1' 'RARRES3' 'SELENBP1' 'FABP1' 'CDX2' 'AGR3' 'AKR1C3']\n",
      "[fold 8] alpha = 0.2329951810515372, \n",
      " Relevant features = ['PRSS3' 'GAL' 'ABCB1' 'PTN' 'RNF128' 'RARRES3' 'IER3' 'SELENBP1' 'FABP1'\n",
      " 'FBP1' 'CDX2' 'AGR3' 'NUPR1' 'TACSTD2' 'AKR1C3']\n",
      "[fold 9] alpha = 0.29470517025518095, \n",
      " Relevant features = ['PRSS3' 'GAL' 'ABCB1' 'RARRES3' 'SELENBP1' 'FABP1' 'CDX2' 'AGR3' 'AKR1C3']\n"
     ]
    }
   ],
   "source": [
    "feature_names = X.columns\n",
    "for k in range(2, 10):\n",
    "    search = GridSearchCV(estimator = model, param_grid = alphas, cv = k, scoring=\"neg_mean_squared_error\")\n",
    "    search.fit(X_train, y_train) \n",
    "    coefficients = search.best_estimator_.named_steps['model'].coef_\n",
    "    importance = np.abs(coefficients)\n",
    "    relevant_features = np.array(feature_names)[importance > 0]\n",
    "    print(\"[fold \" + str(k) +\"] alpha = \" + str(alpha[search.best_index_]) + \", \\n Relevant features = \" + str(relevant_features))"
   ]
  },
  {
   "cell_type": "markdown",
   "metadata": {},
   "source": [
    "Especially with small data sets, the partition of the data between training and validation sets impacts a lot the selection of the parameters. For example, for a 10-fold cross-validation, 90% of the data set is dedicated to training the model and 10% to testing it. But if the validation set isn't representative of the whole data set, the score might be high.\n",
    "Also, if you increase the number of cross-validation fold on your data set, the parameters values converge towards the optimal parameters and from a threshold value the parameters are even almost always identical. The bigger the data set is the less cross validation fold you need because even big partition of the data set becomes representative of the whole data set.\n",
    "\n",
    "If the alpha parameter is under estimated, more features than necessary are used in the model which can lead to over fitting of the training data set. But if you compute multiple times the alpha parameters, the features that are always chosen are most likely to be relevant for the model."
   ]
  },
  {
   "cell_type": "markdown",
   "metadata": {},
   "source": [
    "<p><font color='#770a0a'>Should the value of the intercept also be shrunk to zero with Lasso and Ridge regression? Motivate your answer.</font></p>"
   ]
  },
  {
   "cell_type": "markdown",
   "metadata": {},
   "source": [
    "The intercept value shouldn't be shrunk to zero because otherwise it would make the procedure depend on the origin chosen for Y. Indeed, if you write $y$ as a function of the mean $\\beta_0$ and noise $\\epsilon$ as $y=\\beta_0+\\epsilon$, when you compute the mean $E[y]=\\beta_0+E[\\epsilon]=\\beta_0$. If the intercept would have been suppressed by the lasso and ridge regression, we would have $E[\\epsilon]=E[y]\\ne0$ which we don't want."
   ]
  },
  {
   "cell_type": "markdown",
   "metadata": {},
   "source": [
    "# Bias-variance \n",
    "\n",
    "Show the effect of the regularization on the parameter estimates in terms of bias and variance. For this you can repeat the optimization 100 times using bootstrap and visualise the profile of the Lasso regression coefficient over a grid of the hyperparameter, optionally including the variability as error bars.\n",
    "\n",
    "<p><font color='#770a0a'>Based on the visual analysis of the plot, what are your observation on bias and variance in relation to model complexity? Motivate your answer.</font></p>"
   ]
  },
  {
   "cell_type": "code",
   "execution_count": null,
   "metadata": {},
   "outputs": [],
   "source": [
    "from sklearn.model_selection import train_test_split\n",
    "from sklearn.utils import resample\n",
    "from sklearn.metrics import mean_squared_error\n",
    "import matplotlib.pyplot as plt\n",
    "\n",
    "# Split the data in 90 % training and 10 % testing sets\n",
    "X_train, X_test, y_train, y_test = train_test_split(gene_expression, drug_response, test_size=0.1)\n",
    "\n",
    "# Create an array with different values for alpha\n",
    "alphas = np.logspace(-4, 0, 100)\n",
    "\n",
    "# Number of times optimization is repeated\n",
    "n_optimization = 100\n",
    "\n",
    "# Create empty arrays for the results\n",
    "mse_train = np.zeros((len(alphas), n_optimization))\n",
    "mse_test = np.zeros((len(alphas), n_optimization))\n",
    "coefficients = np.zeros((len(alphas), X_train.shape[1]+1, n_optimization))\n",
    "\n",
    "# Repeat the optimization 100 (n_optimization) times for each alpha            \n",
    "for alpha in range(len(alphas)):\n",
    "    for number in range(n_optimization):\n",
    "        \n",
    "        # Bootstrapping the data\n",
    "        boot_X_train, boot_y_train = resample(X_train, y_train)\n",
    "        \n",
    "        # Create the Lasso regression model\n",
    "        model = Lasso(alphas[alpha], normalize = True, tol = 0.01)\n",
    "        \n",
    "        # Train the model using the resampled training dataset\n",
    "        model.fit(boot_X_train, boot_y_train)\n",
    "        \n",
    "        # Add the coefficients of this model to the coefficient array\n",
    "        coefficients[alpha, 0, number] = model.intercept_\n",
    "        coefficients[alpha, 1:, number] = model.coef_\n",
    "        \n",
    "        # Calculate the mean squared error of the training dataset\n",
    "        prediction_y_train = model.predict(boot_X_train)\n",
    "        mse_train[alpha, number] = mean_squared_error(boot_y_train, prediction_y_train)\n",
    "        \n",
    "        # Calculate the mean squared error of the testing dataset\n",
    "        prediction_y_test = model.predict(X_test)\n",
    "        mse_test[alpha, number] = mean_squared_error(y_test, prediction_y_test)\n",
    "\n",
    "# Calculate the mean of the coefficients without beta zero         \n",
    "mean_coefficients = np.mean(coefficients[:, 1:, :], axis=2)\n",
    "\n",
    "# Calculate the mean and standard deviation of the training set\n",
    "mean_mse_train = np.mean(mse_train, axis=1)\n",
    "std_mse_train = np.std(mse_train, axis=1)\n",
    "\n",
    "# Calculate the mean and standard deviation of the testing set\n",
    "mean_mse_test = np.mean(mse_test, axis=1)\n",
    "std_mse_test = np.std(mse_test, axis=1)"
   ]
  },
  {
   "cell_type": "code",
   "execution_count": null,
   "metadata": {},
   "outputs": [],
   "source": [
    "#___Profile of the Lasso regression coefficients for the GDSC dataset___\n",
    "\n",
    "fig = plt.figure()\n",
    "plt.plot(np.log10(alphas), mean_coefficients)\n",
    "plt.title('Profile of the Lasso regression coefficients')\n",
    "plt.xlabel('$log(alpha)$')\n",
    "plt.ylabel('$Coefficients$')\n",
    "plt.show()"
   ]
  },
  {
   "cell_type": "code",
   "execution_count": null,
   "metadata": {},
   "outputs": [],
   "source": [
    "#___Optimal alpha selection for the GDSC dataset___\n",
    "\n",
    "fig = plt.figure()\n",
    "plt.errorbar(np.log10(alphas), mean_mse_train, yerr=std_mse_train, c='b')\n",
    "plt.errorbar(np.log10(alphas), mean_mse_test, yerr=std_mse_test, c='r')\n",
    "plt.legend(('training set', 'test set'), loc='lower right')\n",
    "plt.title('Optimal alpha selection')\n",
    "plt.xlabel('$log(alpha)$')\n",
    "plt.ylabel('$Mean-Squared Error$')\n",
    "plt.show()"
   ]
  },
  {
   "cell_type": "markdown",
   "metadata": {},
   "source": [
    "***Question:*** Based on the visual analysis of the plot, what are your observation on bias and variance in relation to model complexity? Motivate your answer.\n",
    "\n",
    "***Answer:*** When log(alpha) = -4.0 the model is very complex. Here the prediction error in the training set is low, but the prediction error in the test set is high. This complex model has thus a high variance, but a low bias. The model is overfitting the training data, and is therefore performing poorly on the test data.  \n",
    "When log(alpha) = 0.0 the model is less complex. Here the prediction error in both the training and test set is high. This simple model has a high bias, but a low variance. It is underfitting the training data and may not capture all the patterns dat are present in the dataset. \n",
    "It is remarkable that for the simple model the error of the training set is larger than the error of the test set. You would have expected the error of the test set to always be larger than the error of the training set, because the model is fitted to minimize the error of the training set. Because the model for log(alpha)=0 is so simple it can't make good predictions for that value of alpha, and therefore the error of the training set is not always smaller than the error of the test set.     "
   ]
  },
  {
   "cell_type": "markdown",
   "metadata": {},
   "source": [
    "## Logistic regression\n",
    "\n",
    "<p><font color='#770a0a'>Write the expression of the objective function for the penalized logistic regression with $L_1$ and $L_2$ regularisation (as in Elastic net).</font></p>"
   ]
  },
  {
   "cell_type": "markdown",
   "metadata": {},
   "source": [
    "For Lasso regression, the penalization term is equal to $\\lambda \\sum_{j=1}^p | \\beta_j |$ (L1 regularization), whereas for Ridge regression, the penalization term is equal to $\\lambda \\sum_{j=1}^p \\beta_j^2$ (L2 regularization). Elastic Net incorpores penalties from both L1 and L2 regularization, by doing a weighted combination of them. A hyperparameter $\\alpha$ (between 0 and 1), assigns how much weight is given to each penalties. The contribution of the L1 penalization term is weighted by $\\alpha$, while the contribution of the L2 penalization term is weighted by $1 - \\alpha$. "
   ]
  },
  {
   "cell_type": "markdown",
   "metadata": {},
   "source": [
    "\n",
    "$\\hat{\\beta}^{ elasticnet} = $ argmin$_{\\beta} \\big\\{ \\sum_{i=1}^{N} [y_i(\\beta_0 + \\beta^{T}x_i)-\\log{(1 + e^{(\\beta_0 + \\beta^{T}x_i)})}] + \\lambda \\sum_{j=1}^{p} ((\\alpha \\beta_{j}^2 + (1 - \\alpha) \\lvert \\beta_j \\rvert) \\big\\}$ "
   ]
  }
 ],
 "metadata": {
  "kernelspec": {
   "display_name": "Python 3",
   "language": "python",
   "name": "python3"
  },
  "language_info": {
   "codemirror_mode": {
    "name": "ipython",
    "version": 3
   },
   "file_extension": ".py",
   "mimetype": "text/x-python",
   "name": "python",
   "nbconvert_exporter": "python",
   "pygments_lexer": "ipython3",
   "version": "3.6.13"
  }
 },
 "nbformat": 4,
 "nbformat_minor": 2
}
